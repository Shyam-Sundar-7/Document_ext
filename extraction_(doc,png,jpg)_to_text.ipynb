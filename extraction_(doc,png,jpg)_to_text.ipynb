{
 "cells": [
  {
   "cell_type": "code",
   "execution_count": 1,
   "metadata": {},
   "outputs": [],
   "source": [
    "# C:\\Program Files\\Tesseract-OCR\n",
    "\n",
    "import pytesseract as pyt\n",
    "import cv2\n",
    "# import sys\n",
    "\n",
    "pyt.pytesseract.tesseract_cmd = \"C:\\\\Program Files\\\\Tesseract-OCR\\\\tesseract.exe\"\n",
    "\n",
    "def image(file):\n",
    "    img = cv2.imread(\"data\\\\train\\\\36199312-Rental-Agreement.png\")\n",
    "    text = pyt.image_to_string(img)\n",
    "    return text.strip()"
   ]
  },
  {
   "cell_type": "code",
   "execution_count": 2,
   "metadata": {},
   "outputs": [],
   "source": [
    "from docx import Document\n",
    "\n",
    "def extract_text_from_docx(docx_file):\n",
    "    # Load the DOCX file\n",
    "    doc = Document(docx_file)\n",
    "    \n",
    "    # Initialize an empty string to store the extracted text\n",
    "    text = \"\"\n",
    "    \n",
    "    # Iterate through paragraphs in the document and concatenate the text\n",
    "    for paragraph in doc.paragraphs:\n",
    "        text += paragraph.text + \"\\n\"\n",
    "    \n",
    "    return text.strip()\n"
   ]
  },
  {
   "cell_type": "markdown",
   "metadata": {},
   "source": [
    "- The data directory contains\n",
    "  - test folder\n",
    "  - train folder\n",
    "  - train.csv\n",
    "  - test.csv\n"
   ]
  },
  {
   "cell_type": "code",
   "execution_count": 4,
   "metadata": {},
   "outputs": [],
   "source": [
    "import glob\n",
    "import pandas as pd\n",
    "import os\n",
    "\n",
    "for i in ['train','test']:\n",
    "    files = glob.glob(f'data\\\\{i}\\\\*')\n",
    "\n",
    "    files_id=[]\n",
    "    extracted_text=[]\n",
    "    txt_file=[]\n",
    "    \n",
    "    # Iterate over the files and call the appropriate function based on the file type\n",
    "    for file in files:\n",
    "        # Get the file path and extension\n",
    "        file_path = os.path.join(file)\n",
    "        file_ext = os.path.splitext(file_path)[1]\n",
    "        file_id=os.path.splitext(file_path)[0].split('\\\\')[-1]\n",
    "        files_id.append(file_id)\n",
    "        # Call the appropriate function based on the file type\n",
    "        if file_ext == '.docx':\n",
    "            t=extract_text_from_docx(file_path)\n",
    "        elif file_ext == '.jpg' or file_ext == '.png' or file_ext == '.jpeg':\n",
    "            t=image(file_path)\n",
    "        else:\n",
    "            t=f'Unsupported file type: {file_ext}'\n",
    "        extracted_text.append(t)\n",
    "\n",
    "\n",
    "    df=pd.DataFrame({'File Name':files_id,'Extracted Text':extracted_text})\n",
    "    df.to_csv(f'data\\\\{i}_extracted.csv',index=False)\n"
   ]
  },
  {
   "cell_type": "markdown",
   "metadata": {},
   "source": [
    "- Now after executing the above cell, the data directory contains\n",
    "  - train folder\n",
    "  - test folder\n",
    "  - train.csv\n",
    "  - test.csv\n",
    "  - train_extracted.csv\n",
    "  - test_extracted.csv\n"
   ]
  },
  {
   "cell_type": "code",
   "execution_count": null,
   "metadata": {},
   "outputs": [],
   "source": []
  }
 ],
 "metadata": {
  "kernelspec": {
   "display_name": ".venv",
   "language": "python",
   "name": "python3"
  },
  "language_info": {
   "codemirror_mode": {
    "name": "ipython",
    "version": 3
   },
   "file_extension": ".py",
   "mimetype": "text/x-python",
   "name": "python",
   "nbconvert_exporter": "python",
   "pygments_lexer": "ipython3",
   "version": "3.11.6"
  }
 },
 "nbformat": 4,
 "nbformat_minor": 2
}
