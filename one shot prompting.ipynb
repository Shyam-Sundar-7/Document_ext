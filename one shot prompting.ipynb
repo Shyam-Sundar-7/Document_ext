{
 "cells": [
  {
   "cell_type": "code",
   "execution_count": 2,
   "metadata": {},
   "outputs": [],
   "source": [
    "labels = [\n",
    "    \"Agreement Value\",\n",
    "\t\"Aggrement Start Date\",\n",
    "    \"Aggrement End Date\",\n",
    "    \"Renewal Notice (Days)\",\n",
    "    \"Party One\",\n",
    "    \"Party Two\"\n",
    "]"
   ]
  },
  {
   "cell_type": "code",
   "execution_count": 3,
   "metadata": {},
   "outputs": [],
   "source": [
    "def system_message(labels):\n",
    "    return f\"\"\"\n",
    "You are an expert in Natural Language Processing. Your task is to identify Named Entities (NER) in a Rental agreement document.\n",
    "The possible Named Entities (NER) types are exclusively: ({\", \".join(labels)}).\"\"\""
   ]
  },
  {
   "cell_type": "code",
   "execution_count": 4,
   "metadata": {},
   "outputs": [],
   "source": [
    "def assisstant_message():\n",
    "    return \"\"\"EXAMPLE:\n",
    "        Text:\"House Rental Contract\n",
    "KNOWN ALL MEN BY THESE PRESENTS:\n",
    "This House Rental Contract, made and entered into this 20th day of May 2007 at Manila by and between:\n",
    "Antonio Levy S. Ingles. Jr. and/or Mary Rose C. Ingles, of legal age, with residence and postal address at Unit 2006 EGI Taft Tower 2339 Taft Avenue, Malate, Manila, And herein referred to as the Owner(s),\n",
    "� And �\n",
    "GERALDINE O. GALINATO. of legal age, with residence and postal address at 6 Manganese Road, Pilar Village, Las Pinas, Metro Manila, And herein referred to as the\n",
    "Resident(s),\n",
    "WITNESSETH:\n",
    "In consideration of the agreements of the Resident(s), known as: GERALDINE O. GALINATO. the Owner(s), known as: Antonio Levy S. Ingles. Jr. and/or Mary Rose C. Ingles, hereby rent their the dwelling/house located at Lot 6, Block 20, Royal South Townhomes, Marcos Alvarez Avenue, Talon 5, Las Pinas City, Metro Manila for the period commencing on the 20th day of May, 2007, and monthly thereafter until the 20th day of May, 2008, at which time this Agreement is terminated.\n",
    "Resident(s), in consideration of Owner(s) permitting them to occupy the above property, hereby agrees to the following terms:\n",
    "RENT: To pay as rental the sum of SIX THOUSAND FIVE HUNDRED PESOS IP 6.500.001 per month, due and payable in advance from the 20th day of every month.\n",
    "FAILURE TO PAY ON TIME: Failure to pay the rent will result in being served a Notice to End Residential Tenancy. This Notice may be served if you have an outstanding balance from failure to pay your rent. This Notice may also be served from being habitually late in paying your rent regardless of the balance owed. Once the Notice to End Residential Tenancy is received, you will have a prescribed time to pay all of the amount overdue on your rent. A three-dav grace period will be allowed for late payment. Failure to pay the monthly rental within the grace period is subject to FIVE (5%) PERCENT interest per month of delay as penalty.\n",
    "Habitual failure of the Resident(s) to pay within the prescribed time shall result in the Owner(s) taking immediate legal action to evict the Resident(s) from the premises and seize the security deposit.\n",
    "SECURITY DEPOSIT: Resident(s) agrees to pay a deposit in the amount of SIX THOUSAND FIVE HUNDRED PESOS (P 6.500.001 to secure Resident(s)�s pledge of full compliance with the terms of this agreement. Note: THE DEPOSIT MAY NOT BE USED BY TENANT TO PAY THE RENT DURING THE TENANCY. The security deposit will be used at the end of the tenancy to compensate the Owner(s) for any damages or unpaid rent or charges, and will be repaired or replaced at Resident(s)�s expense with funds other than the deposit.\n",
    "METHOD OF PAYMENT: The initial advance payment of rent and deposit under this contract be PAID IN CASH at least 7 days before the date of moving-in. Thereafter, monthly rent payments must be paid by POST DATED CHECKS payable to ANTONIO LEVY S. INGLES. JR. until a first check is dishonored and returned unpaid. Regardless of cause, no other additional payments may afterwards be made by check. Checks returned will not be redeposited. The Resident(s) will be notified by a 3 day notice, and will be required to pay the amount due in cash.\"\n",
    "        {{\n",
    "    \"Agreement Value\": 6500,\n",
    "    \"Agreement Start Date\": 0.860034722,\n",
    "    \"Agreement End Date\": 0.860046296,\n",
    "    \"Renewal Notice (Days)\": 15,\n",
    "    \"Party One\": \"Antonio Levy S. Ingles, Jr. and/or Mary Rose C. Ingles\",\n",
    "    \"Party Two\": \"GERALDINE Q. GALINATO\"\n",
    "        }}\n",
    "    --\"\"\""
   ]
  },
  {
   "cell_type": "code",
   "execution_count": 9,
   "metadata": {},
   "outputs": [],
   "source": [
    "def user_message(text):\n",
    "    return f\"\"\"\n",
    "TASK:\n",
    "    Text: {text}\n",
    "\"\"\""
   ]
  },
  {
   "cell_type": "code",
   "execution_count": 10,
   "metadata": {},
   "outputs": [],
   "source": [
    "from openai import OpenAI\n",
    "from dotenv import load_dotenv\n",
    "import os\n",
    "load_dotenv()\n",
    "OpenAI.api_key = os.getenv(\"OPENAI_API_KEY\")\n",
    "def run_openai_task(labels, text):\n",
    "    messages = [\n",
    "          {\"role\": \"system\", \"content\": system_message(labels=labels)},\n",
    "          {\"role\": \"assistant\", \"content\": assisstant_message()},\n",
    "          {\"role\": \"user\", \"content\": user_message(text=text)}\n",
    "      ]\n",
    "\n",
    "    # TODO: functions and function_call are deprecated, need to be updated\n",
    "    # See: https://platform.openai.com/docs/api-reference/chat/create#chat-create-tools\n",
    "\n",
    "    client = OpenAI()\n",
    "\n",
    "    completion = client.chat.completions.create(\n",
    "      model=\"gpt-3.5-turbo\",\n",
    "      messages=messages\n",
    "    )\n",
    "\n",
    "    print(completion.choices[0].message.content)"
   ]
  },
  {
   "cell_type": "code",
   "execution_count": 11,
   "metadata": {},
   "outputs": [],
   "source": [
    "tc=\"\"\" \n",
    "RENEWAL OF RENTAL AGREEMENT\n",
    "\n",
    "This AGREEMENT of Rent is made in Bangalore and Executed today the Ist\" of May\n",
    "2010\n",
    "\n",
    "BY AND BETWEEN\n",
    "\n",
    "1. Mr. Balaji.R\n",
    "Aged about 63 years,\n",
    "No 24 2\" Cross, SBM\n",
    "Colony Mathikere - 560054\n",
    "\n",
    "Hereinafter referred and called as the �Lessor� of the First part of one part:\n",
    "//AND//\n",
    "1 Mr.Kartheek R\n",
    "Aged about 31 years,\n",
    "No.81, sri manjunatha nilaya, raju colony,\n",
    "yamalur\n",
    "B angalore-560037.\n",
    "\n",
    "Hereinafter referred and called as the �Lessees� of the second part of the another part:\n",
    "\n",
    "NOW THIS AGREEMENT OF RENT WITNESSETH TN AS FOLLOWS:\n",
    "\n",
    "Whereas the first party is the sole and absolute owner of the above cited / scheduled\n",
    "premises is hereby continued to be rented out the same to the second party which terms\n",
    "and conditions is as follows:\n",
    "\n",
    "The lessor have received a security Deposit amount of Rs.40,000/- (Rupees Fourty\n",
    "Thousand only) from the Lessees and hereby acknowledges the receipt of the same, which\n",
    "carries no interest but to be returned to the lessee at the time of the lessee Vacates and\n",
    "hands over the position.\n",
    "\n",
    "The Rent is payable by the Lessees to the Lessor is a sum of Rs.3800/- (Rupees Thirty\n",
    "Eight Thousand Only) on or before 10\" of every English Calendar Month.\n",
    "\n",
    "This agreement is in force for a period of eleven (11) months and the same may be\n",
    "renewed by the mutual understanding of both the Lessor and the Lessee.\n",
    "\n",
    "In case of either party wants back the portion or vacates the portion either must be\n",
    "informed within one month prior notice.,\n",
    "\n",
    "The Electricity and water charged is to be borne by the Lessees only.\n",
    "\n",
    "The Lessee should neither sublet nor underlet and shall use the premises only for\n",
    "\n",
    "Residential and for not any business purpose, should maintain clean tidy with no\n",
    "\n",
    "interruption, and shall handover at the time of vacating in tenantable condition.\n",
    "SCHEDULE\n",
    "\n",
    "The Schedule of Residential premises. No.81, sri manjunatha nilaya, raju colony, yamalur\n",
    "\n",
    "Bangalore-560037, consists of one Hall, One Bed Room, Kitchen, Bath Room, and\n",
    "\n",
    "Completely Electrified with running water facilities and other amenities.\n",
    "\n",
    "In witness whereof both the parties have set their respective hands and affixed their\n",
    "\n",
    "signatures, hereunder the following and presence of the two witnesses today the day\n",
    "\n",
    "month year cited above.\n",
    "\n",
    "WITNESSES:\n",
    "\n",
    "1. LESSOR/OWNER\n",
    "\n",
    "2. LESSEES/TENANT.\n",
    "\"\"\""
   ]
  },
  {
   "cell_type": "code",
   "execution_count": 12,
   "metadata": {},
   "outputs": [
    {
     "name": "stdout",
     "output_type": "stream",
     "text": [
      "{\n",
      "    \"Agreement Value\": 3800,\n",
      "    \"Agreement Start Date\": \"1st of May 2010\",\n",
      "    \"Agreement End Date\": null,\n",
      "    \"Renewal Notice (Days)\": 30,\n",
      "    \"Party One\": \"Mr. Balaji.R\",\n",
      "    \"Party Two\": \"Mr. Kartheek R\"\n",
      "}\n"
     ]
    }
   ],
   "source": [
    "run_openai_task(labels=labels, text=tc)"
   ]
  },
  {
   "cell_type": "code",
   "execution_count": 13,
   "metadata": {},
   "outputs": [
    {
     "data": {
      "text/html": [
       "<div>\n",
       "<style scoped>\n",
       "    .dataframe tbody tr th:only-of-type {\n",
       "        vertical-align: middle;\n",
       "    }\n",
       "\n",
       "    .dataframe tbody tr th {\n",
       "        vertical-align: top;\n",
       "    }\n",
       "\n",
       "    .dataframe thead th {\n",
       "        text-align: right;\n",
       "    }\n",
       "</style>\n",
       "<table border=\"1\" class=\"dataframe\">\n",
       "  <thead>\n",
       "    <tr style=\"text-align: right;\">\n",
       "      <th></th>\n",
       "      <th>File Name</th>\n",
       "      <th>Extracted Text</th>\n",
       "    </tr>\n",
       "  </thead>\n",
       "  <tbody>\n",
       "    <tr>\n",
       "      <th>0</th>\n",
       "      <td>18325926-Rental-Agreement-1</td>\n",
       "      <td>RENTAL AGREEMENT\\nThis deed of rental agreemen...</td>\n",
       "    </tr>\n",
       "    <tr>\n",
       "      <th>1</th>\n",
       "      <td>36199312-Rental-Agreement</td>\n",
       "      <td>RENEWAL OF RENTAL AGREEMENT\\n\\nThis AGREEMENT ...</td>\n",
       "    </tr>\n",
       "    <tr>\n",
       "      <th>2</th>\n",
       "      <td>44737744-Maddireddy-Bhargava-Reddy-Rental-Agre...</td>\n",
       "      <td>RENTfft\\tENT\\nThis Rental Agreement is made an...</td>\n",
       "    </tr>\n",
       "    <tr>\n",
       "      <th>3</th>\n",
       "      <td>46239065-Standard-Rental-Agreement-Rental-With...</td>\n",
       "      <td>STANDARD REAL ESTATE RENTAL AGREEMENT\\nThis Ag...</td>\n",
       "    </tr>\n",
       "    <tr>\n",
       "      <th>4</th>\n",
       "      <td>47854715-RENTAL-AGREEMENT</td>\n",
       "      <td>RENTAL AGREEMENT\\nTHIS DEED OF RENTAL AGREEMEN...</td>\n",
       "    </tr>\n",
       "  </tbody>\n",
       "</table>\n",
       "</div>"
      ],
      "text/plain": [
       "                                           File Name  \\\n",
       "0                        18325926-Rental-Agreement-1   \n",
       "1                          36199312-Rental-Agreement   \n",
       "2  44737744-Maddireddy-Bhargava-Reddy-Rental-Agre...   \n",
       "3  46239065-Standard-Rental-Agreement-Rental-With...   \n",
       "4                          47854715-RENTAL-AGREEMENT   \n",
       "\n",
       "                                      Extracted Text  \n",
       "0  RENTAL AGREEMENT\\nThis deed of rental agreemen...  \n",
       "1  RENEWAL OF RENTAL AGREEMENT\\n\\nThis AGREEMENT ...  \n",
       "2  RENTfft\\tENT\\nThis Rental Agreement is made an...  \n",
       "3  STANDARD REAL ESTATE RENTAL AGREEMENT\\nThis Ag...  \n",
       "4  RENTAL AGREEMENT\\nTHIS DEED OF RENTAL AGREEMEN...  "
      ]
     },
     "execution_count": 13,
     "metadata": {},
     "output_type": "execute_result"
    }
   ],
   "source": [
    "import pandas as pd\n",
    "train=pd.read_csv(\"data/train_extracted.csv\")\n",
    "train.head()"
   ]
  },
  {
   "cell_type": "code",
   "execution_count": 14,
   "metadata": {},
   "outputs": [
    {
     "name": "stdout",
     "output_type": "stream",
     "text": [
      "    {{\n",
      "    \"Agreement Value\": 4000,\n",
      "    \"Agreement Start Date\": \"2008-12-05\",\n",
      "    \"Agreement End Date\": \"2009-11-05\",\n",
      "    \"Renewal Notice (Days)\": 90,\n",
      "    \"Party One\": \"MR.K.Kuttan S/o Kelu Aehari (Late)\",\n",
      "    \"Party Two\": \"Sri. P.M. Narayana Namboodri\"\n",
      "    }}\n"
     ]
    }
   ],
   "source": [
    "run_openai_task(labels=labels, text=train[\"Extracted Text\"][0])"
   ]
  },
  {
   "cell_type": "code",
   "execution_count": 16,
   "metadata": {},
   "outputs": [
    {
     "name": "stdout",
     "output_type": "stream",
     "text": [
      "{\n",
      "    \"Agreement Value\": 3800,\n",
      "    \"Agreement Start Date\": \"1st of May 2010\",\n",
      "    \"Agreement End Date\": \"1st of April 2011\",\n",
      "    \"Renewal Notice (Days)\": 30,\n",
      "    \"Party One\": \"Mr. Balaji.R\",\n",
      "    \"Party Two\": \"Mr. Kartheek R\"\n",
      "}\n"
     ]
    }
   ],
   "source": [
    "run_openai_task(labels=labels, text=train[\"Extracted Text\"][1])"
   ]
  },
  {
   "cell_type": "code",
   "execution_count": 19,
   "metadata": {},
   "outputs": [
    {
     "name": "stdout",
     "output_type": "stream",
     "text": [
      "{\n",
      "    \"Agreement Value\": 9979,\n",
      "    \"Agreement Start Date\": \"the .?.??& day of 2010\",\n",
      "    \"Agreement End Date\": \"11 months\",\n",
      "    \"Renewal Notice (Days)\": null,\n",
      "    \"Party One\": \"M. V, V« VI JAY A SHANKAR, S/o, M, Rangaiah\",\n",
      "    \"Party Two\": \"MADDIREDDY BHARGAVA REDDY, S/O,MADDIREDDY SUBBA REDDY\"\n",
      "}\n"
     ]
    }
   ],
   "source": [
    "run_openai_task(labels=labels, text=train[\"Extracted Text\"][2])"
   ]
  },
  {
   "cell_type": "code",
   "execution_count": 22,
   "metadata": {},
   "outputs": [
    {
     "name": "stdout",
     "output_type": "stream",
     "text": [
      "{\n",
      "    \"Agreement Value\": 700,\n",
      "    \"Aggrement Start Date\": \"15th day of December, 2008\",\n",
      "    \"Aggrement End Date\": -1,\n",
      "    \"Renewal Notice (Days)\": -1,\n",
      "    \"Party One\": \"PROSPER 4 LESS,LLC\",\n",
      "    \"Party Two\": \"Jose Luis Salcido\"\n",
      "}\n"
     ]
    }
   ],
   "source": [
    "run_openai_task(labels=labels, text=train[\"Extracted Text\"][3])"
   ]
  },
  {
   "cell_type": "code",
   "execution_count": 23,
   "metadata": {},
   "outputs": [
    {
     "name": "stdout",
     "output_type": "stream",
     "text": [
      "{\n",
      "    \"Agreement Value\": 9000,\n",
      "    \"Agreement Start Date\": \"1st April 2010\",\n",
      "    \"Agreement End Date\": \"1st March 2011\",\n",
      "    \"Renewal Notice (Days)\": 30,\n",
      "    \"Party One\": \"Mr. P C MATHEW, S/O K JOSEPH CHACKO\",\n",
      "    \"Party Two\": \"Mr. L GOPINATH S/o of G LAKSHMI NARISIMHAN\"\n",
      "}\n"
     ]
    }
   ],
   "source": [
    "run_openai_task(labels=labels, text=train[\"Extracted Text\"][4])"
   ]
  },
  {
   "cell_type": "code",
   "execution_count": 24,
   "metadata": {},
   "outputs": [
    {
     "name": "stdout",
     "output_type": "stream",
     "text": [
      "{\n",
      "    \"Agreement Start Date\": \"01.04.2010\",\n",
      "    \"Agreement End Date\": \"30.03.2011\",\n",
      "    \"Agreement Value\": 10000,\n",
      "    \"Renewal Notice (Days)\": 90,\n",
      "    \"Party One\": \"Mr. P. JohnsonRavikumar\",\n",
      "    \"Party Two\": \"Mr. Saravanan BV\"\n",
      "}\n"
     ]
    }
   ],
   "source": [
    "run_openai_task(labels=labels, text=train[\"Extracted Text\"][5])"
   ]
  },
  {
   "cell_type": "code",
   "execution_count": 25,
   "metadata": {},
   "outputs": [
    {
     "name": "stdout",
     "output_type": "stream",
     "text": [
      "{\n",
      "    \"Agreement Value\": 3800,\n",
      "    \"Agreement Start Date\": \"1st of May 2010\",\n",
      "    \"Agreement End Date\": \"1st of April 2011\",\n",
      "    \"Renewal Notice (Days)\": 30,\n",
      "    \"Party One\": \"Mr. Balaji.R\",\n",
      "    \"Party Two\": \"Mr. Kartheek R\"\n",
      "}\n"
     ]
    }
   ],
   "source": [
    "run_openai_task(labels=labels, text=train[\"Extracted Text\"][6])"
   ]
  },
  {
   "cell_type": "code",
   "execution_count": 28,
   "metadata": {},
   "outputs": [
    {
     "name": "stdout",
     "output_type": "stream",
     "text": [
      "{\n",
      "    \"Agreement Value\": 3800,\n",
      "    \"Agreement Start Date\": \"1st of May 2010\",\n",
      "    \"Agreement End Date\": \"1st of April 2011\",\n",
      "    \"Renewal Notice (Days)\": 30,\n",
      "    \"Party One\": \"Mr. Balaji.R\",\n",
      "    \"Party Two\": \"Mr. Kartheek R\"\n",
      "}\n"
     ]
    }
   ],
   "source": [
    "run_openai_task(labels=labels, text=train[\"Extracted Text\"][7])"
   ]
  },
  {
   "cell_type": "code",
   "execution_count": 29,
   "metadata": {},
   "outputs": [
    {
     "name": "stdout",
     "output_type": "stream",
     "text": [
      "{\n",
      "    \"Agreement Value\": 6500,\n",
      "    \"Agreement Start Date\": \"20th day of May, 2007\",\n",
      "    \"Agreement End Date\": \"20th day of May, 2008\",\n",
      "    \"Renewal Notice (Days)\": 3,\n",
      "    \"Party One\": \"Antonio Levy S. Ingles. Jr. and/or Mary Rose C. Ingles\",\n",
      "    \"Party Two\": \"GERALDINE O. GALINATO\"\n",
      "}\n"
     ]
    }
   ],
   "source": [
    "run_openai_task(labels=labels, text=train[\"Extracted Text\"][8])"
   ]
  },
  {
   "cell_type": "code",
   "execution_count": 30,
   "metadata": {},
   "outputs": [
    {
     "name": "stdout",
     "output_type": "stream",
     "text": [
      "{\n",
      "    \"Agreement Value\": 6500,\n",
      "    \"Aggrement Start Date\": \"20th day of May, 2007\",\n",
      "    \"Aggrement End Date\": \"20th day of May, 2008\",\n",
      "    \"Renewal Notice (Days)\": 15,\n",
      "    \"Party One\": \"Antonio Levy S. Ingles. Jr. and/or Mary Rose C. Ingles\",\n",
      "    \"Party Two\": \"GERALDINE O. GALINATO\"\n",
      "}\n"
     ]
    }
   ],
   "source": [
    "run_openai_task(labels=labels, text=train[\"Extracted Text\"][9])"
   ]
  },
  {
   "cell_type": "code",
   "execution_count": null,
   "metadata": {},
   "outputs": [],
   "source": []
  }
 ],
 "metadata": {
  "kernelspec": {
   "display_name": ".venv",
   "language": "python",
   "name": "python3"
  },
  "language_info": {
   "codemirror_mode": {
    "name": "ipython",
    "version": 3
   },
   "file_extension": ".py",
   "mimetype": "text/x-python",
   "name": "python",
   "nbconvert_exporter": "python",
   "pygments_lexer": "ipython3",
   "version": "3.11.6"
  }
 },
 "nbformat": 4,
 "nbformat_minor": 2
}
