{
  "cells": [
    {
      "cell_type": "code",
      "execution_count": 22,
      "metadata": {
        "id": "6W62qaKVebct"
      },
      "outputs": [
        {
          "data": {
            "text/plain": [
              "True"
            ]
          },
          "execution_count": 22,
          "metadata": {},
          "output_type": "execute_result"
        }
      ],
      "source": [
        "\n",
        "from dotenv import load_dotenv\n",
        "load_dotenv()\n"
      ]
    },
    {
      "cell_type": "code",
      "execution_count": 23,
      "metadata": {
        "id": "vSd1qS3uJkQm"
      },
      "outputs": [],
      "source": [
        "from typing import List, Union\n",
        "from pydantic import BaseModel, Field\n",
        "from langchain.utils.openai_functions import convert_pydantic_to_openai_function\n",
        "from langchain.output_parsers.openai_functions import JsonOutputFunctionsParser\n",
        "from langchain.prompts import ChatPromptTemplate\n",
        "from langchain_openai import ChatOpenAI\n",
        "from langchain_openai import OpenAI as OpenAi\n",
        "\n",
        "\n",
        "class NER1(BaseModel):\n",
        "    Agreement_Value: Union[float, str] = Field(default=\"\", description=\"Numeric value of agreement value\")\n",
        "    Agreement_Start_Date: str = Field(default=\"\", description=\"Agreement start date in %dd-%mm-%yyyy\")\n",
        "    Agreement_End_Date: str = Field(default=\"\", description=\"Agreement end date in %dd-%mm-%yyyy\")\n",
        "    Renewal_Notice_Days: Union[int, str] = Field(default=\"\", description=\"Number of days for the renewal notice in Integer\")\n",
        "    Party_One: List[str] = Field(default_factory=list, description=\"Person names of party one\")\n",
        "    Party_Two: List[str] = Field(default_factory=list, description=\"Person names of party two\")"
      ]
    },
    {
      "cell_type": "code",
      "execution_count": 24,
      "metadata": {
        "id": "MwfD2QwZIbBk"
      },
      "outputs": [],
      "source": [
        "def openai_response(text:str):\n",
        "    model = ChatOpenAI(temperature=0)\n",
        "    extraction_functions = [convert_pydantic_to_openai_function(NER1)]\n",
        "    extraction_model = model.bind(functions=extraction_functions, function_call={\"name\": \"NER1\"})\n",
        "    prompt = ChatPromptTemplate.from_messages([\n",
        "    (\"system\", \"Extract the relevant information, if not explicitly provided do not guess. Extract partial info.\"),\n",
        "    (\"human\", \"{input}\")])\n",
        "    extraction_chain = prompt | extraction_model | JsonOutputFunctionsParser()\n",
        "    d=extraction_chain.invoke({\"input\": text})\n",
        "    return d"
      ]
    },
    {
      "cell_type": "code",
      "execution_count": 25,
      "metadata": {},
      "outputs": [
        {
          "data": {
            "text/html": [
              "<div>\n",
              "<style scoped>\n",
              "    .dataframe tbody tr th:only-of-type {\n",
              "        vertical-align: middle;\n",
              "    }\n",
              "\n",
              "    .dataframe tbody tr th {\n",
              "        vertical-align: top;\n",
              "    }\n",
              "\n",
              "    .dataframe thead th {\n",
              "        text-align: right;\n",
              "    }\n",
              "</style>\n",
              "<table border=\"1\" class=\"dataframe\">\n",
              "  <thead>\n",
              "    <tr style=\"text-align: right;\">\n",
              "      <th></th>\n",
              "      <th>File Name</th>\n",
              "      <th>Extracted Text</th>\n",
              "    </tr>\n",
              "  </thead>\n",
              "  <tbody>\n",
              "    <tr>\n",
              "      <th>0</th>\n",
              "      <td>18325926-Rental-Agreement-1</td>\n",
              "      <td>RENTAL AGREEMENT\\nThis deed of rental agreemen...</td>\n",
              "    </tr>\n",
              "    <tr>\n",
              "      <th>1</th>\n",
              "      <td>36199312-Rental-Agreement</td>\n",
              "      <td>RENEWAL OF RENTAL AGREEMENT\\n\\nThis AGREEMENT ...</td>\n",
              "    </tr>\n",
              "    <tr>\n",
              "      <th>2</th>\n",
              "      <td>44737744-Maddireddy-Bhargava-Reddy-Rental-Agre...</td>\n",
              "      <td>RENTfft\\tENT\\nThis Rental Agreement is made an...</td>\n",
              "    </tr>\n",
              "    <tr>\n",
              "      <th>3</th>\n",
              "      <td>46239065-Standard-Rental-Agreement-Rental-With...</td>\n",
              "      <td>STANDARD REAL ESTATE RENTAL AGREEMENT\\nThis Ag...</td>\n",
              "    </tr>\n",
              "    <tr>\n",
              "      <th>4</th>\n",
              "      <td>47854715-RENTAL-AGREEMENT</td>\n",
              "      <td>RENTAL AGREEMENT\\nTHIS DEED OF RENTAL AGREEMEN...</td>\n",
              "    </tr>\n",
              "  </tbody>\n",
              "</table>\n",
              "</div>"
            ],
            "text/plain": [
              "                                           File Name  \\\n",
              "0                        18325926-Rental-Agreement-1   \n",
              "1                          36199312-Rental-Agreement   \n",
              "2  44737744-Maddireddy-Bhargava-Reddy-Rental-Agre...   \n",
              "3  46239065-Standard-Rental-Agreement-Rental-With...   \n",
              "4                          47854715-RENTAL-AGREEMENT   \n",
              "\n",
              "                                      Extracted Text  \n",
              "0  RENTAL AGREEMENT\\nThis deed of rental agreemen...  \n",
              "1  RENEWAL OF RENTAL AGREEMENT\\n\\nThis AGREEMENT ...  \n",
              "2  RENTfft\\tENT\\nThis Rental Agreement is made an...  \n",
              "3  STANDARD REAL ESTATE RENTAL AGREEMENT\\nThis Ag...  \n",
              "4  RENTAL AGREEMENT\\nTHIS DEED OF RENTAL AGREEMEN...  "
            ]
          },
          "execution_count": 25,
          "metadata": {},
          "output_type": "execute_result"
        }
      ],
      "source": [
        "import pandas as pd\n",
        "\n",
        "df = pd.read_csv(\"data\\\\train_extracted.csv\")\n",
        "df.head()"
      ]
    },
    {
      "cell_type": "code",
      "execution_count": 26,
      "metadata": {},
      "outputs": [
        {
          "data": {
            "text/plain": [
              "{'Party_One': ['MR.K.Kuttan'], 'Party_Two': ['P.M. Narayana Namboodri']}"
            ]
          },
          "execution_count": 26,
          "metadata": {},
          "output_type": "execute_result"
        }
      ],
      "source": [
        "openai_response(df['Extracted Text'][0])"
      ]
    },
    {
      "cell_type": "code",
      "execution_count": 14,
      "metadata": {},
      "outputs": [
        {
          "data": {
            "text/plain": [
              "{'Agreement_Start_Date': '1-05-2010',\n",
              " 'Party_One': ['Mr. Balaji.R'],\n",
              " 'Party_Two': ['Mr.Kartheek R']}"
            ]
          },
          "execution_count": 14,
          "metadata": {},
          "output_type": "execute_result"
        }
      ],
      "source": [
        "openai_response(df['Extracted Text'][1])"
      ]
    },
    {
      "cell_type": "code",
      "execution_count": 32,
      "metadata": {},
      "outputs": [
        {
          "data": {
            "text/plain": [
              "{'Party_One': ['M. V, V« VI JAY A SHANKAR'],\n",
              " 'Party_Two': ['MADDIREDDY BHARGAVA REDDY']}"
            ]
          },
          "execution_count": 32,
          "metadata": {},
          "output_type": "execute_result"
        }
      ],
      "source": [
        "openai_response(df['Extracted Text'][2])"
      ]
    },
    {
      "cell_type": "code",
      "execution_count": 33,
      "metadata": {},
      "outputs": [
        {
          "data": {
            "text/plain": [
              "{'Party_One': ['PROSPER 4 LESS,LLC'],\n",
              " 'Party_Two': ['Jose Luis Salcido'],\n",
              " 'Agreement_Start_Date': '11-12-2008',\n",
              " 'Agreement_End_Date': '',\n",
              " 'Renewal_Notice_Days': ''}"
            ]
          },
          "execution_count": 33,
          "metadata": {},
          "output_type": "execute_result"
        }
      ],
      "source": [
        "openai_response(df['Extracted Text'][3])"
      ]
    },
    {
      "cell_type": "code",
      "execution_count": 34,
      "metadata": {},
      "outputs": [
        {
          "data": {
            "text/plain": [
              "{'Party_One': ['Mr. P C MATHEW'], 'Party_Two': ['Mr. L GOPINATH']}"
            ]
          },
          "execution_count": 34,
          "metadata": {},
          "output_type": "execute_result"
        }
      ],
      "source": [
        "openai_response(df['Extracted Text'][4])"
      ]
    },
    {
      "cell_type": "code",
      "execution_count": 35,
      "metadata": {},
      "outputs": [
        {
          "data": {
            "text/plain": [
              "{'Party_One': ['Mr. P. JohnsonRavikumar'],\n",
              " 'Party_Two': ['Mr. Saravanan BV'],\n",
              " 'Agreement_Start_Date': '01.04.2010',\n",
              " 'Agreement_End_Date': '30.03.2011',\n",
              " 'Renewal_Notice_Days': 90}"
            ]
          },
          "execution_count": 35,
          "metadata": {},
          "output_type": "execute_result"
        }
      ],
      "source": [
        "openai_response(df['Extracted Text'][5])"
      ]
    },
    {
      "cell_type": "code",
      "execution_count": 36,
      "metadata": {},
      "outputs": [
        {
          "data": {
            "text/plain": [
              "{'Agreement_Start_Date': '1st May 2010',\n",
              " 'Party_One': ['Mr. Balaji.R'],\n",
              " 'Party_Two': ['Mr.Kartheek R']}"
            ]
          },
          "execution_count": 36,
          "metadata": {},
          "output_type": "execute_result"
        }
      ],
      "source": [
        "openai_response(df['Extracted Text'][6])"
      ]
    },
    {
      "cell_type": "code",
      "execution_count": 37,
      "metadata": {},
      "outputs": [
        {
          "data": {
            "text/plain": [
              "{'Agreement_Start_Date': '1-05-2010',\n",
              " 'Party_One': ['Mr. Balaji.R'],\n",
              " 'Party_Two': ['Mr.Kartheek R']}"
            ]
          },
          "execution_count": 37,
          "metadata": {},
          "output_type": "execute_result"
        }
      ],
      "source": [
        "openai_response(df['Extracted Text'][7])"
      ]
    },
    {
      "cell_type": "code",
      "execution_count": 38,
      "metadata": {},
      "outputs": [
        {
          "data": {
            "text/plain": [
              "{'Party_One': ['Antonio Levy S. Ingles. Jr.', 'Mary Rose C. Ingles'],\n",
              " 'Party_Two': ['GERALDINE O. GALINATO'],\n",
              " 'Agreement_Start_Date': '20th day of May, 2007',\n",
              " 'Agreement_End_Date': '20th day of May, 2008',\n",
              " 'Agreement_Value': 6500}"
            ]
          },
          "execution_count": 38,
          "metadata": {},
          "output_type": "execute_result"
        }
      ],
      "source": [
        "openai_response(df['Extracted Text'][8])"
      ]
    },
    {
      "cell_type": "code",
      "execution_count": 42,
      "metadata": {},
      "outputs": [
        {
          "data": {
            "text/plain": [
              "{'Party_One': ['Antonio Levy S. Ingles. Jr.', 'Mary Rose C. Ingles'],\n",
              " 'Party_Two': ['GERALDINE O. GALINATO'],\n",
              " 'Agreement_Start_Date': '20th day of May, 2007',\n",
              " 'Agreement_End_Date': '20th day of May, 2008',\n",
              " 'Renewal_Notice_Days': 15}"
            ]
          },
          "execution_count": 42,
          "metadata": {},
          "output_type": "execute_result"
        }
      ],
      "source": [
        "openai_response(df['Extracted Text'][9])"
      ]
    },
    {
      "cell_type": "code",
      "execution_count": null,
      "metadata": {},
      "outputs": [],
      "source": []
    }
  ],
  "metadata": {
    "colab": {
      "provenance": []
    },
    "kernelspec": {
      "display_name": "Python 3",
      "name": "python3"
    },
    "language_info": {
      "codemirror_mode": {
        "name": "ipython",
        "version": 3
      },
      "file_extension": ".py",
      "mimetype": "text/x-python",
      "name": "python",
      "nbconvert_exporter": "python",
      "pygments_lexer": "ipython3",
      "version": "3.11.6"
    }
  },
  "nbformat": 4,
  "nbformat_minor": 0
}
